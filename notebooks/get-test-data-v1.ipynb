{
 "cells": [
  {
   "cell_type": "code",
   "execution_count": 1,
   "metadata": {},
   "outputs": [],
   "source": [
    "import yfinance as yf"
   ]
  },
  {
   "cell_type": "code",
   "execution_count": 2,
   "metadata": {},
   "outputs": [],
   "source": [
    "base_path = \"/Users/beneverman/Documents/Coding/bp-quant/forecasting-experiments-v1/data/tests\""
   ]
  },
  {
   "cell_type": "code",
   "execution_count": 3,
   "metadata": {},
   "outputs": [
    {
     "name": "stdout",
     "output_type": "stream",
     "text": [
      "[*********************100%%**********************]  1 of 1 completed\n",
      "[*********************100%%**********************]  2 of 2 completed\n"
     ]
    }
   ],
   "source": [
    "df = yf.download(tickers='AAPL', start = '2018-01-01', end = '2022-12-31', interval='1d')\n",
    "df.to_csv(f'{base_path}/AAPL_2018-01-01_2022-12-13_1d.csv')\n",
    "df = yf.download(tickers=['AAPL', 'MSFT'], start = '2018-01-01', end = '2022-12-31', interval='1d')\n",
    "df.to_csv(f'{base_path}/AAPL_MSFT_2018-01-01_2022-12-13_1d.csv')"
   ]
  }
 ],
 "metadata": {
  "kernelspec": {
   "display_name": "venv",
   "language": "python",
   "name": "python3"
  },
  "language_info": {
   "codemirror_mode": {
    "name": "ipython",
    "version": 3
   },
   "file_extension": ".py",
   "mimetype": "text/x-python",
   "name": "python",
   "nbconvert_exporter": "python",
   "pygments_lexer": "ipython3",
   "version": "3.10.0"
  },
  "orig_nbformat": 4
 },
 "nbformat": 4,
 "nbformat_minor": 2
}
